{
  "nbformat": 4,
  "nbformat_minor": 0,
  "metadata": {
    "colab": {
      "name": "tensorflowIntro.ipynb",
      "provenance": [],
      "authorship_tag": "ABX9TyNsWZ/YVJOWLcSWat08/0uS",
      "include_colab_link": true
    },
    "kernelspec": {
      "name": "python3",
      "display_name": "Python 3"
    },
    "language_info": {
      "name": "python"
    }
  },
  "cells": [
    {
      "cell_type": "markdown",
      "metadata": {
        "id": "view-in-github",
        "colab_type": "text"
      },
      "source": [
        "<a href=\"https://colab.research.google.com/github/Blutronics/BakeryAssociationRule/blob/main/tensorflowIntro.ipynb\" target=\"_parent\"><img src=\"https://colab.research.google.com/assets/colab-badge.svg\" alt=\"Open In Colab\"/></a>"
      ]
    },
    {
      "cell_type": "code",
      "execution_count": null,
      "metadata": {
        "id": "QtGs5tXz5WP3"
      },
      "outputs": [],
      "source": [
        "import tensorflow as tf\n",
        "from tensorflow import keras\n",
        "from tensorflow.keras import layers"
      ]
    },
    {
      "cell_type": "code",
      "source": [
        "# Define sequential model with 3 layers\n",
        "model = keras.Sequential(\n",
        "    [\n",
        "     layers.Dense(2,activation =\"relu\", name = \"layer1\"),\n",
        "     layers.Dense(3,activation =\"relu\", name = \"layer2\"),\n",
        "     layers.Dense(4, name = \"layer3\"),\n",
        "    ]\n",
        ")"
      ],
      "metadata": {
        "id": "B-qidL4d97HK"
      },
      "execution_count": null,
      "outputs": []
    },
    {
      "cell_type": "code",
      "source": [
        "x = tf.ones((3,3))"
      ],
      "metadata": {
        "id": "mlrB1oP7-2IY"
      },
      "execution_count": null,
      "outputs": []
    },
    {
      "cell_type": "code",
      "source": [
        "type(x)"
      ],
      "metadata": {
        "colab": {
          "base_uri": "https://localhost:8080/"
        },
        "id": "cuTrOhYM_HBn",
        "outputId": "4581b758-18ec-4963-96ef-d4bbdcc8d435"
      },
      "execution_count": null,
      "outputs": [
        {
          "output_type": "execute_result",
          "data": {
            "text/plain": [
              "tensorflow.python.framework.ops.EagerTensor"
            ]
          },
          "metadata": {},
          "execution_count": 16
        }
      ]
    },
    {
      "cell_type": "code",
      "source": [
        "x"
      ],
      "metadata": {
        "colab": {
          "base_uri": "https://localhost:8080/"
        },
        "id": "zIwGiyfI_p2_",
        "outputId": "a375a4de-72d9-4d03-a502-2b010e8720c3"
      },
      "execution_count": null,
      "outputs": [
        {
          "output_type": "execute_result",
          "data": {
            "text/plain": [
              "<tf.Tensor: shape=(3, 3), dtype=float32, numpy=\n",
              "array([[1., 1., 1.],\n",
              "       [1., 1., 1.],\n",
              "       [1., 1., 1.]], dtype=float32)>"
            ]
          },
          "metadata": {},
          "execution_count": 17
        }
      ]
    },
    {
      "cell_type": "code",
      "source": [
        "x.ndim"
      ],
      "metadata": {
        "colab": {
          "base_uri": "https://localhost:8080/"
        },
        "id": "b--7RzFCAhAS",
        "outputId": "fe46212c-081a-410b-b509-5093373b9c89"
      },
      "execution_count": null,
      "outputs": [
        {
          "output_type": "execute_result",
          "data": {
            "text/plain": [
              "2"
            ]
          },
          "metadata": {},
          "execution_count": 18
        }
      ]
    },
    {
      "cell_type": "code",
      "source": [
        "y = model(x)"
      ],
      "metadata": {
        "id": "iPgUZEGBA6Ki"
      },
      "execution_count": null,
      "outputs": []
    },
    {
      "cell_type": "code",
      "source": [
        "y"
      ],
      "metadata": {
        "colab": {
          "base_uri": "https://localhost:8080/"
        },
        "id": "wP42VR3vA9Co",
        "outputId": "3f0eb69e-9346-4d32-dd2f-5af9a6e325fc"
      },
      "execution_count": null,
      "outputs": [
        {
          "output_type": "execute_result",
          "data": {
            "text/plain": [
              "<tf.Tensor: shape=(3, 4), dtype=float32, numpy=\n",
              "array([[-2.114327  ,  1.3584019 ,  1.2203602 , -0.00904576],\n",
              "       [-2.114327  ,  1.3584019 ,  1.2203602 , -0.00904576],\n",
              "       [-2.114327  ,  1.3584019 ,  1.2203602 , -0.00904576]],\n",
              "      dtype=float32)>"
            ]
          },
          "metadata": {},
          "execution_count": 20
        }
      ]
    },
    {
      "cell_type": "code",
      "source": [
        "y.ndim"
      ],
      "metadata": {
        "colab": {
          "base_uri": "https://localhost:8080/"
        },
        "id": "U6jXQNK_A_QD",
        "outputId": "0c086f7e-694d-4bfa-dad8-74387327fb48"
      },
      "execution_count": null,
      "outputs": [
        {
          "output_type": "execute_result",
          "data": {
            "text/plain": [
              "2"
            ]
          },
          "metadata": {},
          "execution_count": 21
        }
      ]
    },
    {
      "cell_type": "code",
      "source": [
        "layer1 = layers.Dense(2,activation =\"relu\", name = \"layer1\")\n",
        "layer2 = layers.Dense(3,activation =\"relu\", name = \"layer2\")\n",
        "layer3 = layers.Dense(4, name = \"layer3\")\n",
        "\n",
        "x = tf.ones((3,3))\n",
        "y = layer3(layer2(layer1(x)))"
      ],
      "metadata": {
        "id": "_-4tqssYCFnP"
      },
      "execution_count": null,
      "outputs": []
    },
    {
      "cell_type": "code",
      "source": [
        "y"
      ],
      "metadata": {
        "colab": {
          "base_uri": "https://localhost:8080/"
        },
        "id": "KNKbaeghDFAT",
        "outputId": "bd0a1ca4-b906-4f58-8163-3adb432c92f5"
      },
      "execution_count": null,
      "outputs": [
        {
          "output_type": "execute_result",
          "data": {
            "text/plain": [
              "<tf.Tensor: shape=(3, 4), dtype=float32, numpy=\n",
              "array([[0., 0., 0., 0.],\n",
              "       [0., 0., 0., 0.],\n",
              "       [0., 0., 0., 0.]], dtype=float32)>"
            ]
          },
          "metadata": {},
          "execution_count": 23
        }
      ]
    },
    {
      "cell_type": "code",
      "source": [
        "model = keras.Sequential()\n",
        "model.add(layers.Dense(2, activation =\"relu\"))\n",
        "model.add(layers.Dense(3,activation =\"relu\"))\n",
        "model.add(layers.Dense(4))"
      ],
      "metadata": {
        "id": "FdwQPi39DRwx"
      },
      "execution_count": null,
      "outputs": []
    },
    {
      "cell_type": "code",
      "source": [
        "model.layers"
      ],
      "metadata": {
        "colab": {
          "base_uri": "https://localhost:8080/"
        },
        "id": "6bFXWbU3EZOp",
        "outputId": "6270285a-2d99-41af-94db-f6f39c013fa1"
      },
      "execution_count": null,
      "outputs": [
        {
          "output_type": "execute_result",
          "data": {
            "text/plain": [
              "[<keras.layers.core.dense.Dense at 0x7f1e9e7f0690>,\n",
              " <keras.layers.core.dense.Dense at 0x7f1e9e7f9150>,\n",
              " <keras.layers.core.dense.Dense at 0x7f1e9e7a8650>]"
            ]
          },
          "metadata": {},
          "execution_count": 25
        }
      ]
    },
    {
      "cell_type": "code",
      "source": [
        "model.pop()\n",
        "print(len(model.layers))"
      ],
      "metadata": {
        "colab": {
          "base_uri": "https://localhost:8080/"
        },
        "id": "zBGTXKYNEcS8",
        "outputId": "e5fe718b-3002-46c9-c76a-b05f8eb6ae01"
      },
      "execution_count": null,
      "outputs": [
        {
          "output_type": "stream",
          "name": "stdout",
          "text": [
            "2\n"
          ]
        }
      ]
    },
    {
      "cell_type": "code",
      "source": [
        "#\n",
        "layer = layers.Dense(3)\n",
        "layer.weights #empty"
      ],
      "metadata": {
        "colab": {
          "base_uri": "https://localhost:8080/"
        },
        "id": "PNBFH0w9FTbA",
        "outputId": "e1d56ce1-b32c-4c01-eb38-a4bd7e69b374"
      },
      "execution_count": null,
      "outputs": [
        {
          "output_type": "execute_result",
          "data": {
            "text/plain": [
              "[]"
            ]
          },
          "metadata": {},
          "execution_count": 27
        }
      ]
    },
    {
      "cell_type": "code",
      "source": [
        "l = layers.Dense(2, activation =\"relu\")\n",
        "l.weights"
      ],
      "metadata": {
        "colab": {
          "base_uri": "https://localhost:8080/"
        },
        "id": "BkLlvb6hGKIs",
        "outputId": "9dc3f588-70fb-45e4-977f-840a26a01b19"
      },
      "execution_count": null,
      "outputs": [
        {
          "output_type": "execute_result",
          "data": {
            "text/plain": [
              "[]"
            ]
          },
          "metadata": {},
          "execution_count": 28
        }
      ]
    },
    {
      "cell_type": "code",
      "source": [
        "t = tf.ones((1,4))\n",
        "t"
      ],
      "metadata": {
        "colab": {
          "base_uri": "https://localhost:8080/"
        },
        "id": "DTOLsQryGQka",
        "outputId": "37c9d8b7-d893-415f-d045-a4cf9dc990b9"
      },
      "execution_count": null,
      "outputs": [
        {
          "output_type": "execute_result",
          "data": {
            "text/plain": [
              "<tf.Tensor: shape=(1, 4), dtype=float32, numpy=array([[1., 1., 1., 1.]], dtype=float32)>"
            ]
          },
          "metadata": {},
          "execution_count": 30
        }
      ]
    },
    {
      "cell_type": "code",
      "source": [
        "x = tf.ones((1,4))"
      ],
      "metadata": {
        "id": "pOW63fh1Gv5q"
      },
      "execution_count": null,
      "outputs": []
    },
    {
      "cell_type": "code",
      "source": [
        "y = layer(x)"
      ],
      "metadata": {
        "id": "5d2y4IaqHFwS"
      },
      "execution_count": null,
      "outputs": []
    },
    {
      "cell_type": "code",
      "source": [
        "layer.weights"
      ],
      "metadata": {
        "colab": {
          "base_uri": "https://localhost:8080/"
        },
        "id": "yEL82M27HHe9",
        "outputId": "76c71311-e469-4d33-ab1f-7690ffcda171"
      },
      "execution_count": null,
      "outputs": [
        {
          "output_type": "execute_result",
          "data": {
            "text/plain": [
              "[<tf.Variable 'dense_3/kernel:0' shape=(4, 3) dtype=float32, numpy=\n",
              " array([[-0.11847013,  0.00640303, -0.05537325],\n",
              "        [-0.8977535 ,  0.92298305,  0.80746233],\n",
              "        [-0.07148784,  0.09053993, -0.228629  ],\n",
              "        [-0.06516737, -0.6941335 , -0.65509605]], dtype=float32)>,\n",
              " <tf.Variable 'dense_3/bias:0' shape=(3,) dtype=float32, numpy=array([0., 0., 0.], dtype=float32)>]"
            ]
          },
          "metadata": {},
          "execution_count": 33
        }
      ]
    },
    {
      "cell_type": "code",
      "source": [
        ""
      ],
      "metadata": {
        "id": "vDG-8zPDHUIH"
      },
      "execution_count": null,
      "outputs": []
    }
  ]
}