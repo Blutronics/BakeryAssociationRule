{
  "nbformat": 4,
  "nbformat_minor": 0,
  "metadata": {
    "colab": {
      "name": "bakery.ipynb",
      "provenance": [],
      "include_colab_link": true
    },
    "kernelspec": {
      "name": "python3",
      "display_name": "Python 3"
    },
    "language_info": {
      "name": "python"
    }
  },
  "cells": [
    {
      "cell_type": "markdown",
      "metadata": {
        "id": "view-in-github",
        "colab_type": "text"
      },
      "source": [
        "<a href=\"https://colab.research.google.com/github/Blutronics/BakeryAssociationRule/blob/main/bakery.ipynb\" target=\"_parent\"><img src=\"https://colab.research.google.com/assets/colab-badge.svg\" alt=\"Open In Colab\"/></a>"
      ]
    },
    {
      "cell_type": "code",
      "execution_count": null,
      "metadata": {
        "id": "dj0s9kY_Lmpl"
      },
      "outputs": [],
      "source": [
        "import pandas as pd\n",
        "import numpy as np\n",
        "import matplotlib.pyplot as plt\n",
        "import seaborn as sns\n",
        "!pip install kmodes\n",
        "from kmodes.kmodes import KModes"
      ]
    },
    {
      "cell_type": "code",
      "source": [
        "df=pd.read_csv('Bakery.csv')\n",
        "df.head()"
      ],
      "metadata": {
        "id": "jXI8AuvSPgDv"
      },
      "execution_count": null,
      "outputs": []
    },
    {
      "cell_type": "code",
      "source": [
        "df.info()"
      ],
      "metadata": {
        "id": "5T5v2R0zXWpz"
      },
      "execution_count": null,
      "outputs": []
    },
    {
      "cell_type": "code",
      "source": [
        "df.isnull().sum()"
      ],
      "metadata": {
        "id": "qq9L9sapX7_p"
      },
      "execution_count": null,
      "outputs": []
    },
    {
      "cell_type": "code",
      "source": [
        "sns.histplot(df.Items)\n",
        "sns.set(rc = {'figure.figsize':(22,10)}, font_scale = 0.8)\n",
        "plt.xticks(list(range(0, len(pd.unique(df.Items))), ), rotation=90, ha = \"center\")\n",
        "plt.title(\"Frequency of Bakery Items\")\n",
        "plt.xlabel(\"Items\")\n",
        "plt.ylabel(\"Frequency\")\n",
        "plt.show()"
      ],
      "metadata": {
        "id": "Y3XhBgmWRQeV"
      },
      "execution_count": null,
      "outputs": []
    },
    {
      "cell_type": "markdown",
      "source": [
        "# **Market Basket Analysis for Bakery Items**"
      ],
      "metadata": {
        "id": "3c-ovevyG5TN"
      }
    },
    {
      "cell_type": "code",
      "source": [
        "dfti=df[['TransactionNo','Items']]\n",
        "dfti.head()"
      ],
      "metadata": {
        "id": "UYozpfo6YDjy"
      },
      "execution_count": null,
      "outputs": []
    },
    {
      "cell_type": "code",
      "source": [
        "# dfti.TransactionNo.groupby(dfti.Items)"
      ],
      "metadata": {
        "id": "eOfFsNmVY-nT"
      },
      "execution_count": null,
      "outputs": []
    },
    {
      "cell_type": "code",
      "source": [
        "#dfti=pd.get_dummies(dfti,drop_first=True)\n",
        "# dfti.head()"
      ],
      "metadata": {
        "id": "gpxsm9AgZDuq"
      },
      "execution_count": null,
      "outputs": []
    },
    {
      "cell_type": "code",
      "source": [
        "\n",
        "items=[]\n",
        "for i in dfti.groupby('TransactionNo')['Items'].apply(list):\n",
        "    items.append(i)\n",
        "#items"
      ],
      "metadata": {
        "id": "GmUJ6s9gZelz"
      },
      "execution_count": null,
      "outputs": []
    },
    {
      "cell_type": "code",
      "source": [
        "all_items=[i for item in items for i in item]\n",
        "#all_items\n"
      ],
      "metadata": {
        "id": "FAjDp61YaS2Y"
      },
      "execution_count": null,
      "outputs": []
    },
    {
      "cell_type": "code",
      "source": [
        "from collections import Counter"
      ],
      "metadata": {
        "id": "TKZZtExSaXcb"
      },
      "execution_count": null,
      "outputs": []
    },
    {
      "cell_type": "code",
      "source": [
        "item_frequencies=Counter(all_items)\n",
        "#item_frequencies"
      ],
      "metadata": {
        "id": "IQAVr1g8aa2K"
      },
      "execution_count": null,
      "outputs": []
    },
    {
      "cell_type": "code",
      "source": [
        "item_frequencies=sorted(item_frequencies.items(),key=lambda x:x[1])\n",
        "#item_frequencies"
      ],
      "metadata": {
        "id": "EIP1Ac9waekq"
      },
      "execution_count": null,
      "outputs": []
    },
    {
      "cell_type": "code",
      "source": [
        "itemfreqs=list(reversed([i[1] for i in item_frequencies]))\n",
        "item=list(reversed([i[0] for i in item_frequencies]))\n",
        "itemfreqs[0:12]"
      ],
      "metadata": {
        "id": "fbtI8cHGakFK"
      },
      "execution_count": null,
      "outputs": []
    },
    {
      "cell_type": "code",
      "source": [
        "import matplotlib.pyplot as plt"
      ],
      "metadata": {
        "id": "F1cxWSDdaqdS"
      },
      "execution_count": null,
      "outputs": []
    },
    {
      "cell_type": "code",
      "source": [
        "import seaborn as sns"
      ],
      "metadata": {
        "id": "znRhsAOoHSw7"
      },
      "execution_count": null,
      "outputs": []
    },
    {
      "cell_type": "code",
      "source": [
        "sns.barplot(item[0:12],itemfreqs[0:12])\n",
        "plt.title(\"Frequency of Bakery Items\")\n",
        "plt.xlabel(\"Items\")\n",
        "plt.ylabel(\"Frequency\")\n",
        "sns.set(rc = {'figure.figsize':(14,10)}, font_scale = 1.5)\n",
        "# sns.set(font_scale = 2)\n",
        "sns.set_palette(\"Paired\", 12)\n",
        "plt.xticks(list(range(0, 12), ), item[0:12],rotation=60)\n",
        "plt.show()"
      ],
      "metadata": {
        "id": "Cpb2KeW9HTwk"
      },
      "execution_count": null,
      "outputs": []
    },
    {
      "cell_type": "markdown",
      "source": [
        "# **Association Rule**"
      ],
      "metadata": {
        "id": "HZTQp2Q9P6tj"
      }
    },
    {
      "cell_type": "code",
      "source": [
        "item_series=pd.DataFrame(pd.Series(items))\n",
        "item_series=item_series.iloc[:9465,:]\n",
        "item_series"
      ],
      "metadata": {
        "id": "HjKMqB5FCaI1"
      },
      "execution_count": null,
      "outputs": []
    },
    {
      "cell_type": "code",
      "source": [
        "item_series.columns=[\"transactions\"]"
      ],
      "metadata": {
        "id": "s3HtbryDCaMI"
      },
      "execution_count": null,
      "outputs": []
    },
    {
      "cell_type": "code",
      "source": [
        "df_dummy=item_series[\"transactions\"].str.join(sep='*').str.get_dummies(sep='*')\n",
        "dummy_copy=df_dummy\n",
        "dummy_copy.head()\n",
        "\n",
        "# currious why we make a copy of the df_dummy dateframe here?"
      ],
      "metadata": {
        "id": "S2YgX9gcCaOg"
      },
      "execution_count": null,
      "outputs": []
    },
    {
      "cell_type": "code",
      "source": [
        "from mlxtend.frequent_patterns import apriori, association_rules\n",
        "\n",
        "frequent_itemsets=apriori(df_dummy, min_support=0.01, max_len=4, use_colnames=True)"
      ],
      "metadata": {
        "id": "_XZ_ZlC1QPAr"
      },
      "execution_count": null,
      "outputs": []
    },
    {
      "cell_type": "code",
      "source": [
        "frequent_itemsets.sort_values('support',ascending=False,inplace=True)"
      ],
      "metadata": {
        "id": "ygrdoPYPQPG1"
      },
      "execution_count": null,
      "outputs": []
    },
    {
      "cell_type": "code",
      "source": [
        "labels = frequent_itemsets.itemsets[0:11]\n",
        "labels"
      ],
      "metadata": {
        "id": "PyIL6eo6QPJm"
      },
      "execution_count": null,
      "outputs": []
    },
    {
      "cell_type": "code",
      "source": [
        "formattedLabels = []\n",
        "for i in labels:\n",
        "  i = str(i)\n",
        "  # print(i[12:-3])\n",
        "  formattedLabels.append(i[12:-3])"
      ],
      "metadata": {
        "id": "QLAnYcoGQPMG"
      },
      "execution_count": null,
      "outputs": []
    },
    {
      "cell_type": "code",
      "source": [
        "sns.barplot(formattedLabels,frequent_itemsets.support[0:11])\n",
        "plt.title(\"Support of Bakery Combinations Items\")\n",
        "plt.xlabel(\"Items Combinations\")\n",
        "plt.ylabel(\"Support\")\n",
        "sns.set(rc = {'figure.figsize':(14,10)}, font_scale = 1.5)\n",
        "# sns.set(font_scale = 2)\n",
        "sns.set_palette(\"Paired\", 12)\n",
        "plt.xticks(list(range(0, 11), ), formattedLabels, rotation=45, ha = \"right\")\n",
        "plt.show()"
      ],
      "metadata": {
        "id": "zuSD1y7sQWMR"
      },
      "execution_count": null,
      "outputs": []
    },
    {
      "cell_type": "code",
      "source": [
        "rules=association_rules(frequent_itemsets,metric=\"lift\",min_threshold=1)\n",
        "rules.head(20)\n",
        "rules.sort_values('lift',ascending=False).head(10)"
      ],
      "metadata": {
        "id": "1Vt48NzIQWR_"
      },
      "execution_count": null,
      "outputs": []
    },
    {
      "cell_type": "code",
      "source": [
        "# muDf = df.drop_duplicates()\n",
        "df_dummy2 = df_dummy\n",
        "df_dummy2['DayType']= df_drop.DayType\n",
        "df_dummy2['Daypart']= df_drop.Daypart"
      ],
      "metadata": {
        "id": "7QiBQ1MyCahc"
      },
      "execution_count": null,
      "outputs": []
    },
    {
      "cell_type": "code",
      "source": [
        "colorrr = [\"#69BAF0\", \"#315770\"]\n",
        "colorrr2 = [\"#69BAF0\", \"#315770\",\"#55D9CE\", \"#ffffff\"]\n",
        "fig = plt.figure(figsize = (20, 17))\n",
        "plt.subplot(2, 2, 1)\n",
        "plt.pie(df.DayType.value_counts(),\n",
        "        labels = [\"Weekday\", \"Weekend\"],\n",
        "        startangle = 45,\n",
        "        autopct = '%1.2f%%',\n",
        "        colors = colorrr,\n",
        "        shadow = True,\n",
        "        explode = [0,.03],\n",
        "        textprops={'color':\"black\",'fontsize': 14}\n",
        "        )\n",
        "plt.title('Total Item Sales by Day of Week',color='black',fontsize= 16)\n",
        "plt.plot()\n",
        "\n",
        "\n",
        "plt.subplot(2, 2, 2)\n",
        "\n",
        "\n",
        "plt.pie(df.Daypart.value_counts(),\n",
        "        labels = [\"Afternoon\", \"Morning\", \"Evening\",\"Night\"],\n",
        "        textprops={'color':\"black\",'fontsize': 14},\n",
        "        startangle = 45,\n",
        "        autopct = '%1.2f%%',\n",
        "        colors = colorrr2,\n",
        "        shadow = True,\n",
        "        explode = [0,.03,.03,.2]\n",
        "        )\n",
        "plt.plot()\n",
        "plt.title('Total Item Sales by Time of Day',color='black',fontsize= 16)\n",
        "\n",
        "\n",
        "plt.subplot(2, 2, 3)\n",
        "plt.pie(df_dummy2.DayType.value_counts(),\n",
        "        labels = [\"Weekday\", \"Weekend\"],\n",
        "        startangle = 45,\n",
        "        autopct = '%1.2f%%',\n",
        "        colors = colorrr,\n",
        "        shadow = True,\n",
        "        explode = [0,.03],\n",
        "        textprops={'color':\"black\",'fontsize': 14}\n",
        "        )\n",
        "plt.title('Total Transactions by Day of Week',color='black',fontsize= 16)\n",
        "plt.plot()\n",
        "\n",
        "\n",
        "plt.subplot(2, 2, 4)\n",
        "\n",
        "\n",
        "plt.pie(df_dummy2.Daypart.value_counts(),\n",
        "        labels = [\"Afternoon\", \"Morning\", \"Evening\",\"Night\"],\n",
        "        textprops={'color':\"black\",'fontsize': 14},\n",
        "        startangle = 45,\n",
        "        autopct = '%1.2f%%',\n",
        "        colors = colorrr2,\n",
        "        shadow = True,\n",
        "        explode = [0,.03,.03,.2]\n",
        "        )\n",
        "plt.plot()\n",
        "plt.title('Total Transaction by Time of Day',color='black',fontsize= 16)\n",
        "\n",
        "plt.show()\n"
      ],
      "metadata": {
        "id": "4mV3Dqb2USpQ"
      },
      "execution_count": null,
      "outputs": []
    },
    {
      "cell_type": "code",
      "source": [
        "# dayAvgColor = [\"#DE593E\", \"#756554\"]\n",
        "#61453F\n",
        "dayAvgColor = [\"#DE593E\", \"#61453F\"]\n",
        "fig = plt.figure(figsize = (20, 10))\n",
        "\n",
        "plt.subplot(1, 2, 1)\n",
        "\n",
        "dayAvg = np.array(len(df_dummy2.loc[df_dummy2[\"DayType\"]==\"Weekend\"])/2), (len(df_dummy2.loc[df_dummy2[\"DayType\"]==\"Weekday\"])/5)\n",
        "dayType = []\n",
        "for i in df.DayType.unique():\n",
        "  dayType.append(i)\n",
        "\n",
        "plt.bar(dayType, dayAvg, color=dayAvgColor)\n",
        "plt.xlabel(\"DayType\")\n",
        "plt.ylabel(\"Transactions\")\n",
        "plt.title(\"Average Sales of DayType\")\n",
        "\n",
        "\n",
        "plt.subplot(1, 2, 2)\n",
        "\n",
        "plt.pie(dayAvg,\n",
        "        labels = [\"Weekend\", \"Weekday\"],\n",
        "        textprops={'color':\"black\",'fontsize': 14},\n",
        "        startangle = 45,\n",
        "        autopct = '%1.2f%%',\n",
        "        colors = dayAvgColor,\n",
        "        shadow = True,\n",
        "        # explode = [0,.0]\n",
        "        )\n",
        "plt.plot()\n",
        "plt.title('Total Item Sales by Time of Day',color='black',fontsize= 16)"
      ],
      "metadata": {
        "id": "OtTrmxQ7UmGI"
      },
      "execution_count": null,
      "outputs": []
    },
    {
      "cell_type": "code",
      "source": [
        "# df.Items.value_counts().sum()"
      ],
      "metadata": {
        "id": "cJksrioiDK99"
      },
      "execution_count": null,
      "outputs": []
    },
    {
      "cell_type": "code",
      "source": [
        "# print('Coffee Proportion =', 5471/20507)\n",
        "# print('Bread Proportion =', 3325/20507)\n",
        "# print('Tea Proportion =', 1435/20507)\n",
        "# print('Cake Proportion =', 1025/20507)\n",
        "# print('Pastry Proportion =', 856/20507)\n",
        "# print('Sandwich Proportion =', 771/20507)"
      ],
      "metadata": {
        "id": "S8F3Gj6UDLBt"
      },
      "execution_count": null,
      "outputs": []
    },
    {
      "cell_type": "code",
      "source": [
        "\n",
        "\n",
        "\n",
        "fig, ax = plt.subplots(figsize=(10, 10))\n",
        "\n",
        "# fig, ax = plt.figure(figsize = (10, 10))\n",
        "plt.title('Sales by Item')\n",
        "\n",
        "\n",
        "x = df.Items.value_counts()\n",
        "\n",
        "theme = plt.get_cmap('jet')\n",
        "ax.set_prop_cycle(\"color\", [theme(6 * i / len(x))\n",
        "                             for i in range(len(x))])\n",
        "\n",
        "\n",
        "\n",
        "\n",
        "# y = np.array([26.68, 16.21, 7, 5, 4.17, 3.76])\n",
        "mylabels = [\"Coffee (26.68%)\", \"Bread (16.21%)\", \"Tea (7%)\", \"Cake (5%)\", \"Pastry (4.17%)\", \"Sandwich (3.76%)\",'','','','','','','','','','','','','','','','','','','','','','','','','','','','','','','','','','','','','','','','','','','','','','','','','','','','','','','','','','','','','','','','','','','','','','','','','','','','','','','','','','','','','','','','']\n",
        "myexplode = [0.06, 0.04, 0.02, 0, 0, 0, 0,0,0,0,0,0,0,0,0,0,0,0,0,0,0,0,0,0,0,0,0,0,0,0,0,0,0,0,0,0,0,0,0,0,0,0,0,0,0,0,0,0,0,0,0,0,0,0,0,0,0,0,0,0,0,0,0,0,0,0,0,0,0,0,0,0,0,0,0,0,0,0,0,0,0,0,0,0,0,0,0,0,0,0,0,0,0,0]\n",
        "\n",
        "plt.pie(x, \n",
        "        labels = mylabels, \n",
        "        explode = myexplode, \n",
        "        shadow = True,\n",
        "        wedgeprops = {\"edgecolor\" : \"black\",\n",
        "                      'linewidth': 0.05,\n",
        "                      'antialiased': True})\n",
        "\n",
        "plt.show()"
      ],
      "metadata": {
        "colab": {
          "base_uri": "https://localhost:8080/",
          "height": 594
        },
        "id": "ClVYH2-uDcoH",
        "outputId": "273279c3-bfa9-4749-8a96-ca3e83c3d198"
      },
      "execution_count": 173,
      "outputs": [
        {
          "output_type": "display_data",
          "data": {
            "text/plain": [
              "<Figure size 720x720 with 1 Axes>"
            ],
            "image/png": "[encoded data removed]"
          },
          "metadata": {}
        }
      ]
    },
    {
      "cell_type": "markdown",
      "source": [
        "I disagree with the with first EDA insight. If you look at the if you look at the average sales Weekends are more profitable. Weekdays only apear more profitable becasue there are 5 days worth of sales. On avaegea weekends have 20% more sales then weekdays. You can say that more then 60% of all sales occur on weekdays, but that is not a accurate representation of the useful information."
      ],
      "metadata": {
        "id": "9p19Rq_wW0zY"
      }
    },
    {
      "cell_type": "markdown",
      "source": [
        "# EDA Insights: \n",
        "\n",
        "- 0. Weekdays are more profitable, with 60% of sales occurring on weekday days. \n",
        "- 1. Fewer that 1% of sales occur during the hours designated as night and only 2.5% during the hours designated as evening:\n",
        "  - As inconvenient as it might be for the patrons (especially dedicated/ loyal night-time customers), NOT OPERATING DURING THESE HOURS would likely increase profits by decreasing the operational costs (employee salary/ wages, utilities, insurance premiums for operating a cash business during periods more prone to (potentially violent) robbery/ theft, *etc.*) to a degree that more than offsets and loss in sales revenue.\n",
        "- 2. Folks love coffee, bread, tea, pastries, cakes, & sammiches:\n",
        "  - INCREASING STOCK & VARIETY of such items might increase sales revenue; \n",
        "  - as might CREATING PROMOTIONAL OFFERS tailored to the sale of these items; this insight should dovetail w/ those from the Market-Basket Analysis."
      ],
      "metadata": {
        "id": "zzrrhteHDkdC"
      }
    },
    {
      "cell_type": "code",
      "source": [
        "df.Items = df.Items.replace({'Bread': 0, 'Scandinavian': 1, 'Hot chocolate': 2, 'Jam': 3, 'Cookies': 4,\n",
        "       'Muffin': 5, 'Coffee': 6, 'Pastry': 7, 'Medialuna': 8, 'Tea': 9, 'Tartine': 10,\n",
        "       'Basket': 11, 'Mineral water': 12, 'Farm House': 13, 'Fudge': 14, 'Juice': 15,\n",
        "       \"Ella's Kitchen Pouches\": 16, 'Victorian Sponge': 17, 'Frittata': 18,\n",
        "       'Hearty & Seasonal': 19, 'Soup': 20, 'Pick and Mix Bowls': 21, 'Smoothies': 22,\n",
        "       'Cake': 23, 'Mighty Protein': 24, 'Chicken sand': 25, 'Coke': 26,\n",
        "       'My-5 Fruit Shoot': 27, 'Focaccia': 28, 'Sandwich': 29, 'Alfajores': 30, 'Eggs': 31,\n",
        "       'Brownie': 32, 'Dulce de Leche': 33, 'Honey': 34, 'The BART': 35, 'Granola': 36,\n",
        "       'Fairy Doors': 37, 'Empanadas': 38, 'Keeping It Local': 39, 'Art Tray': 40,\n",
        "       'Bowl Nic Pitt': 41, 'Bread Pudding': 42, 'Adjustment': 43, 'Truffles': 44,\n",
        "       'Chimichurri Oil': 45, 'Bacon': 46, 'Spread': 47, 'Kids biscuit': 48, 'Siblings': 49,\n",
        "       'Caramel bites': 50, 'Jammie Dodgers': 51, 'Tiffin': 52, 'Olum & polenta': 53,\n",
        "       'Polenta': 54, 'The Nomad': 55, 'Hack the stack': 56, 'Bakewell': 57,\n",
        "       'Lemon and coconut': 58, 'Toast': 59, 'Scone': 60, 'Crepes': 61, 'Vegan mincepie': 62,\n",
        "       'Bare Popcorn': 63, 'Muesli': 64, 'Crisps': 65, 'Pintxos': 66, 'Gingerbread syrup': 67,\n",
        "       'Panatone': 68, 'Brioche and salami': 69, 'Afternoon with the baker': 70,\n",
        "       'Salad': 71, 'Chicken Stew': 72, 'Spanish Brunch': 73,\n",
        "       'Raspberry shortbread sandwich': 74, 'Extra Salami or Feta': 75,\n",
        "       'Duck egg': 76, 'Baguette': 77, \"Valentine's card\": 78, 'Tshirt': 79,\n",
        "       'Vegan Feast': 80, 'Postcard': 81, 'Nomad bag': 82, 'Chocolates': 83,\n",
        "       'Coffee granules': 84, 'Drinking chocolate spoons': 85, 'Christmas common': 86,\n",
        "       'Argentina Night': 87, 'Half slice Monster': 88, 'Gift voucher': 89,\n",
        "       'Cherry me Dried fruit': 90, 'Mortimer': 91, 'Raw bars': 92, 'Tacos/Fajita': 93})"
      ],
      "metadata": {
        "id": "Eanf_ODJDc4O"
      },
      "execution_count": null,
      "outputs": []
    },
    {
      "cell_type": "code",
      "source": [
        "df.Items.unique()"
      ],
      "metadata": {
        "id": "mB-4ZaIxDc73"
      },
      "execution_count": null,
      "outputs": []
    },
    {
      "cell_type": "code",
      "source": [
        "df"
      ],
      "metadata": {
        "id": "xywMYxzGCVj-"
      },
      "execution_count": null,
      "outputs": []
    },
    {
      "cell_type": "code",
      "source": [
        "df.Daypart.unique()"
      ],
      "metadata": {
        "id": "vzJ_QZarCVmH"
      },
      "execution_count": null,
      "outputs": []
    },
    {
      "cell_type": "code",
      "source": [
        "df.Daypart = df['Daypart'].replace({'Morning': 0, 'Afternoon': 1, 'Evening': 2, 'Night': 3})"
      ],
      "metadata": {
        "id": "DLnjtOl0D8P0"
      },
      "execution_count": null,
      "outputs": []
    },
    {
      "cell_type": "code",
      "source": [
        "df.Daypart.unique()"
      ],
      "metadata": {
        "id": "E7gH-_3vD8Tj"
      },
      "execution_count": null,
      "outputs": []
    },
    {
      "cell_type": "code",
      "source": [
        "df"
      ],
      "metadata": {
        "id": "qrTQSGCxD8Wu"
      },
      "execution_count": null,
      "outputs": []
    },
    {
      "cell_type": "code",
      "source": [
        "df.DayType.unique()"
      ],
      "metadata": {
        "id": "5ty-MX8rD8Zj"
      },
      "execution_count": null,
      "outputs": []
    },
    {
      "cell_type": "code",
      "source": [
        "df.DayType = df.DayType.replace({'Weekend': 0, 'Weekday': 1})"
      ],
      "metadata": {
        "id": "SnRRJlCTD8cy"
      },
      "execution_count": null,
      "outputs": []
    },
    {
      "cell_type": "code",
      "source": [
        "df.DayType.unique()"
      ],
      "metadata": {
        "id": "o6C-Df-AD8gJ"
      },
      "execution_count": null,
      "outputs": []
    },
    {
      "cell_type": "code",
      "source": [
        "df"
      ],
      "metadata": {
        "id": "UppPquvXD8jA"
      },
      "execution_count": null,
      "outputs": []
    },
    {
      "cell_type": "code",
      "source": [
        "df.DateTime.unique()"
      ],
      "metadata": {
        "id": "PnTdzvRnEOPu"
      },
      "execution_count": null,
      "outputs": []
    },
    {
      "cell_type": "code",
      "source": [
        "df['DateTime'] = pd.to_datetime(df['DateTime'])\n",
        "\n",
        "df['DateTime'] = df['DateTime'].dt.strftime('%Y')\n",
        "\n",
        "# df['DateTime'] = df['DateTime'].dt.strftime('%Y-%m')"
      ],
      "metadata": {
        "id": "7Vw9lfwCEOTM"
      },
      "execution_count": null,
      "outputs": []
    },
    {
      "cell_type": "code",
      "source": [
        "df.DateTime.unique()"
      ],
      "metadata": {
        "id": "RjDgtTmNEOWD"
      },
      "execution_count": null,
      "outputs": []
    },
    {
      "cell_type": "code",
      "source": [
        "df.DateTime = pd.to_numeric(df.DateTime)"
      ],
      "metadata": {
        "id": "MQnR6567EOcl"
      },
      "execution_count": null,
      "outputs": []
    },
    {
      "cell_type": "code",
      "source": [
        "df.rename(columns = {'DateTime': 'Year', 'Daypart': 'Morning:0, Afternoon:1, Evening:2, Night:3', 'DayType': 'Weekend:0, Weekday:1'}, inplace = True)"
      ],
      "metadata": {
        "id": "suMT3LWdCVo0"
      },
      "execution_count": null,
      "outputs": []
    },
    {
      "cell_type": "code",
      "source": [
        "df"
      ],
      "metadata": {
        "id": "Tn7KPIfeEhHt"
      },
      "execution_count": null,
      "outputs": []
    },
    {
      "cell_type": "markdown",
      "source": [
        "## **KMode Cluster**"
      ],
      "metadata": {
        "id": "YjyRkalpCeDC"
      }
    },
    {
      "cell_type": "code",
      "source": [
        "df=pd.read_csv('Bakery.csv')"
      ],
      "metadata": {
        "id": "UdWq17KEci5T"
      },
      "execution_count": null,
      "outputs": []
    },
    {
      "cell_type": "code",
      "source": [
        "new_df=df[['TransactionNo','Daypart', 'DayType']]\n",
        "new_df"
      ],
      "metadata": {
        "id": "ZpdLfb8DeHzU"
      },
      "execution_count": null,
      "outputs": []
    },
    {
      "cell_type": "code",
      "source": [
        "new_df['PartType']=new_df['Daypart']+ ' ' + new_df['DayType']\n",
        "new_df.head()"
      ],
      "metadata": {
        "id": "WY2lMhQ3eo18"
      },
      "execution_count": null,
      "outputs": []
    },
    {
      "cell_type": "code",
      "source": [
        "days=[]\n",
        "for i in new_df.groupby('TransactionNo')['PartType'].apply(list):\n",
        "    days.append(i)\n",
        "\n",
        "#days"
      ],
      "metadata": {
        "id": "r4vxTcZYf4dc"
      },
      "execution_count": null,
      "outputs": []
    },
    {
      "cell_type": "code",
      "source": [
        "df_drop = new_df.drop_duplicates()\n",
        "df_drop"
      ],
      "metadata": {
        "id": "X25w6TDTgVFE"
      },
      "execution_count": null,
      "outputs": []
    },
    {
      "cell_type": "code",
      "source": [
        "days=[]\n",
        "for i in df_drop.groupby('TransactionNo')['PartType'].apply(list):\n",
        "    days.append(i)\n",
        "# df_drop\n"
      ],
      "metadata": {
        "id": "A_4ROEzlgwtk"
      },
      "execution_count": null,
      "outputs": []
    },
    {
      "cell_type": "code",
      "source": [
        "df_drop = df_drop.reset_index(drop=True)\n",
        "df_drop"
      ],
      "metadata": {
        "id": "TuQfEfKVg9wk"
      },
      "execution_count": null,
      "outputs": []
    },
    {
      "cell_type": "markdown",
      "source": [
        "**Completed dataframe encoding**"
      ],
      "metadata": {
        "id": "BgA-flW3C7WT"
      }
    },
    {
      "cell_type": "code",
      "source": [
        "df_dummy['PartType']=df_drop.PartType\n",
        "df_dummy.head()\n",
        "#Dataframe for dummy variables and Daytype/DayType"
      ],
      "metadata": {
        "id": "tiRI8awChIxk"
      },
      "execution_count": null,
      "outputs": []
    },
    {
      "cell_type": "markdown",
      "source": [
        "**Compute Number of Clusters for Model using Elbow Curve**"
      ],
      "metadata": {
        "id": "r1Cv3-68DEgL"
      }
    },
    {
      "cell_type": "code",
      "source": [
        "# Elbow curve to find optimal K\n",
        "data = df_dummy\n",
        "cost = []\n",
        "K = range(1,5)\n",
        "for num_clusters in list(K):\n",
        "    kmode = KModes(n_clusters=num_clusters, init = \"random\", n_init = 5, verbose=1)\n",
        "    kmode.fit_predict(data)\n",
        "    cost.append(kmode.cost_)\n",
        "    \n",
        "plt.plot(K, cost, 'bx-')\n",
        "plt.xlabel('No. of clusters')\n",
        "plt.ylabel('Cost')\n",
        "plt.title('Elbow Method For Optimal k')\n",
        "plt.show()"
      ],
      "metadata": {
        "id": "B8p-1WDbizMr",
        "colab": {
          "base_uri": "https://localhost:8080/",
          "height": 1000
        },
        "outputId": "a1b9388b-b97a-4cb7-aa5b-36431d338b06"
      },
      "execution_count": 172,
      "outputs": [
        {
          "output_type": "stream",
          "name": "stdout",
          "text": [
            "Init: initializing centroids\n",
            "Init: initializing clusters\n",
            "Starting iterations...\n",
            "Run 1, iteration: 1/100, moves: 0, cost: 32723.0\n",
            "Init: initializing centroids\n",
            "Init: initializing clusters\n",
            "Starting iterations...\n",
            "Run 2, iteration: 1/100, moves: 0, cost: 32723.0\n",
            "Init: initializing centroids\n",
            "Init: initializing clusters\n",
            "Starting iterations...\n",
            "Run 3, iteration: 1/100, moves: 0, cost: 32723.0\n",
            "Init: initializing centroids\n",
            "Init: initializing clusters\n",
            "Starting iterations...\n",
            "Run 4, iteration: 1/100, moves: 0, cost: 32723.0\n",
            "Init: initializing centroids\n",
            "Init: initializing clusters\n",
            "Starting iterations...\n",
            "Run 5, iteration: 1/100, moves: 0, cost: 32723.0\n",
            "Best run was number 1\n",
            "Init: initializing centroids\n",
            "Init: initializing clusters\n",
            "Starting iterations...\n",
            "Run 1, iteration: 1/100, moves: 189, cost: 32281.0\n",
            "Init: initializing centroids\n",
            "Init: initializing clusters\n",
            "Starting iterations...\n",
            "Run 2, iteration: 1/100, moves: 1098, cost: 26596.0\n",
            "Init: initializing centroids\n",
            "Init: initializing clusters\n",
            "Starting iterations...\n",
            "Run 3, iteration: 1/100, moves: 277, cost: 32333.0\n",
            "Init: initializing centroids\n",
            "Init: initializing clusters\n",
            "Starting iterations...\n",
            "Run 4, iteration: 1/100, moves: 201, cost: 32293.0\n",
            "Init: initializing centroids\n",
            "Init: initializing clusters\n",
            "Starting iterations...\n",
            "Run 5, iteration: 1/100, moves: 1918, cost: 25774.0\n",
            "Best run was number 5\n",
            "Init: initializing centroids\n",
            "Init: initializing clusters\n",
            "Starting iterations...\n",
            "Run 1, iteration: 1/100, moves: 2928, cost: 21417.0\n",
            "Run 1, iteration: 2/100, moves: 452, cost: 21417.0\n",
            "Init: initializing centroids\n",
            "Init: initializing clusters\n",
            "Starting iterations...\n",
            "Run 2, iteration: 1/100, moves: 952, cost: 25608.0\n",
            "Run 2, iteration: 2/100, moves: 766, cost: 22023.0\n",
            "Run 2, iteration: 3/100, moves: 1937, cost: 21417.0\n",
            "Run 2, iteration: 4/100, moves: 44, cost: 21417.0\n",
            "Init: initializing centroids\n",
            "Init: initializing clusters\n",
            "Starting iterations...\n"
          ]
        },
        {
          "output_type": "error",
          "ename": "KeyboardInterrupt",
          "evalue": "ignored",
          "traceback": [
            "\u001b[0;31m---------------------------------------------------------------------------\u001b[0m",
            "\u001b[0;31mKeyboardInterrupt\u001b[0m                         Traceback (most recent call last)",
            "\u001b[0;32m<ipython-input-172-0e73e78864c2>\u001b[0m in \u001b[0;36m<module>\u001b[0;34m()\u001b[0m\n\u001b[1;32m      5\u001b[0m \u001b[0;32mfor\u001b[0m \u001b[0mnum_clusters\u001b[0m \u001b[0;32min\u001b[0m \u001b[0mlist\u001b[0m\u001b[0;34m(\u001b[0m\u001b[0mK\u001b[0m\u001b[0;34m)\u001b[0m\u001b[0;34m:\u001b[0m\u001b[0;34m\u001b[0m\u001b[0;34m\u001b[0m\u001b[0m\n\u001b[1;32m      6\u001b[0m     \u001b[0mkmode\u001b[0m \u001b[0;34m=\u001b[0m \u001b[0mKModes\u001b[0m\u001b[0;34m(\u001b[0m\u001b[0mn_clusters\u001b[0m\u001b[0;34m=\u001b[0m\u001b[0mnum_clusters\u001b[0m\u001b[0;34m,\u001b[0m \u001b[0minit\u001b[0m \u001b[0;34m=\u001b[0m \u001b[0;34m\"random\"\u001b[0m\u001b[0;34m,\u001b[0m \u001b[0mn_init\u001b[0m \u001b[0;34m=\u001b[0m \u001b[0;36m5\u001b[0m\u001b[0;34m,\u001b[0m \u001b[0mverbose\u001b[0m\u001b[0;34m=\u001b[0m\u001b[0;36m1\u001b[0m\u001b[0;34m)\u001b[0m\u001b[0;34m\u001b[0m\u001b[0;34m\u001b[0m\u001b[0m\n\u001b[0;32m----> 7\u001b[0;31m     \u001b[0mkmode\u001b[0m\u001b[0;34m.\u001b[0m\u001b[0mfit_predict\u001b[0m\u001b[0;34m(\u001b[0m\u001b[0mdata\u001b[0m\u001b[0;34m)\u001b[0m\u001b[0;34m\u001b[0m\u001b[0;34m\u001b[0m\u001b[0m\n\u001b[0m\u001b[1;32m      8\u001b[0m     \u001b[0mcost\u001b[0m\u001b[0;34m.\u001b[0m\u001b[0mappend\u001b[0m\u001b[0;34m(\u001b[0m\u001b[0mkmode\u001b[0m\u001b[0;34m.\u001b[0m\u001b[0mcost_\u001b[0m\u001b[0;34m)\u001b[0m\u001b[0;34m\u001b[0m\u001b[0;34m\u001b[0m\u001b[0m\n\u001b[1;32m      9\u001b[0m \u001b[0;34m\u001b[0m\u001b[0m\n",
            "\u001b[0;32m/usr/local/lib/python3.7/dist-packages/kmodes/kmodes.py\u001b[0m in \u001b[0;36mfit_predict\u001b[0;34m(self, X, y, **kwargs)\u001b[0m\n\u001b[1;32m    152\u001b[0m         \u001b[0mpredict\u001b[0m\u001b[0;34m(\u001b[0m\u001b[0mX\u001b[0m\u001b[0;34m)\u001b[0m\u001b[0;34m.\u001b[0m\u001b[0;34m\u001b[0m\u001b[0;34m\u001b[0m\u001b[0m\n\u001b[1;32m    153\u001b[0m         \"\"\"\n\u001b[0;32m--> 154\u001b[0;31m         \u001b[0;32mreturn\u001b[0m \u001b[0mself\u001b[0m\u001b[0;34m.\u001b[0m\u001b[0mfit\u001b[0m\u001b[0;34m(\u001b[0m\u001b[0mX\u001b[0m\u001b[0;34m,\u001b[0m \u001b[0;34m**\u001b[0m\u001b[0mkwargs\u001b[0m\u001b[0;34m)\u001b[0m\u001b[0;34m.\u001b[0m\u001b[0mpredict\u001b[0m\u001b[0;34m(\u001b[0m\u001b[0mX\u001b[0m\u001b[0;34m,\u001b[0m \u001b[0;34m**\u001b[0m\u001b[0mkwargs\u001b[0m\u001b[0;34m)\u001b[0m\u001b[0;34m\u001b[0m\u001b[0;34m\u001b[0m\u001b[0m\n\u001b[0m\u001b[1;32m    155\u001b[0m \u001b[0;34m\u001b[0m\u001b[0m\n\u001b[1;32m    156\u001b[0m     \u001b[0;32mdef\u001b[0m \u001b[0mpredict\u001b[0m\u001b[0;34m(\u001b[0m\u001b[0mself\u001b[0m\u001b[0;34m,\u001b[0m \u001b[0mX\u001b[0m\u001b[0;34m,\u001b[0m \u001b[0;34m**\u001b[0m\u001b[0mkwargs\u001b[0m\u001b[0;34m)\u001b[0m\u001b[0;34m:\u001b[0m\u001b[0;34m\u001b[0m\u001b[0;34m\u001b[0m\u001b[0m\n",
            "\u001b[0;32m/usr/local/lib/python3.7/dist-packages/kmodes/kmodes.py\u001b[0m in \u001b[0;36mfit\u001b[0;34m(self, X, y, sample_weight, **kwargs)\u001b[0m\n\u001b[1;32m    142\u001b[0m             \u001b[0mrandom_state\u001b[0m\u001b[0;34m,\u001b[0m\u001b[0;34m\u001b[0m\u001b[0;34m\u001b[0m\u001b[0m\n\u001b[1;32m    143\u001b[0m             \u001b[0mself\u001b[0m\u001b[0;34m.\u001b[0m\u001b[0mn_jobs\u001b[0m\u001b[0;34m,\u001b[0m\u001b[0;34m\u001b[0m\u001b[0;34m\u001b[0m\u001b[0m\n\u001b[0;32m--> 144\u001b[0;31m             \u001b[0msample_weight\u001b[0m\u001b[0;34m\u001b[0m\u001b[0;34m\u001b[0m\u001b[0m\n\u001b[0m\u001b[1;32m    145\u001b[0m         )\n\u001b[1;32m    146\u001b[0m         \u001b[0;32mreturn\u001b[0m \u001b[0mself\u001b[0m\u001b[0;34m\u001b[0m\u001b[0;34m\u001b[0m\u001b[0m\n",
            "\u001b[0;32m/usr/local/lib/python3.7/dist-packages/kmodes/kmodes.py\u001b[0m in \u001b[0;36mk_modes\u001b[0;34m(X, n_clusters, max_iter, dissim, init, n_init, verbose, random_state, n_jobs, sample_weight)\u001b[0m\n\u001b[1;32m    241\u001b[0m             results.append(_k_modes_single(\n\u001b[1;32m    242\u001b[0m                 \u001b[0mX\u001b[0m\u001b[0;34m,\u001b[0m \u001b[0mn_clusters\u001b[0m\u001b[0;34m,\u001b[0m \u001b[0mn_points\u001b[0m\u001b[0;34m,\u001b[0m \u001b[0mn_attrs\u001b[0m\u001b[0;34m,\u001b[0m \u001b[0mmax_iter\u001b[0m\u001b[0;34m,\u001b[0m \u001b[0mdissim\u001b[0m\u001b[0;34m,\u001b[0m \u001b[0minit\u001b[0m\u001b[0;34m,\u001b[0m \u001b[0minit_no\u001b[0m\u001b[0;34m,\u001b[0m\u001b[0;34m\u001b[0m\u001b[0;34m\u001b[0m\u001b[0m\n\u001b[0;32m--> 243\u001b[0;31m                 \u001b[0mverbose\u001b[0m\u001b[0;34m,\u001b[0m \u001b[0mseeds\u001b[0m\u001b[0;34m[\u001b[0m\u001b[0minit_no\u001b[0m\u001b[0;34m]\u001b[0m\u001b[0;34m,\u001b[0m \u001b[0msample_weight\u001b[0m\u001b[0;34m\u001b[0m\u001b[0;34m\u001b[0m\u001b[0m\n\u001b[0m\u001b[1;32m    244\u001b[0m             ))\n\u001b[1;32m    245\u001b[0m     \u001b[0;32melse\u001b[0m\u001b[0;34m:\u001b[0m\u001b[0;34m\u001b[0m\u001b[0;34m\u001b[0m\u001b[0m\n",
            "\u001b[0;32m/usr/local/lib/python3.7/dist-packages/kmodes/kmodes.py\u001b[0m in \u001b[0;36m_k_modes_single\u001b[0;34m(X, n_clusters, n_points, n_attrs, max_iter, dissim, init, init_no, verbose, random_state, sample_weight)\u001b[0m\n\u001b[1;32m    331\u001b[0m         )\n\u001b[1;32m    332\u001b[0m         \u001b[0;31m# All points seen in this iteration\u001b[0m\u001b[0;34m\u001b[0m\u001b[0;34m\u001b[0m\u001b[0;34m\u001b[0m\u001b[0m\n\u001b[0;32m--> 333\u001b[0;31m         \u001b[0mlabels\u001b[0m\u001b[0;34m,\u001b[0m \u001b[0mncost\u001b[0m \u001b[0;34m=\u001b[0m \u001b[0mlabels_cost\u001b[0m\u001b[0;34m(\u001b[0m\u001b[0mX\u001b[0m\u001b[0;34m,\u001b[0m \u001b[0mcentroids\u001b[0m\u001b[0;34m,\u001b[0m \u001b[0mdissim\u001b[0m\u001b[0;34m,\u001b[0m \u001b[0mmembship\u001b[0m\u001b[0;34m,\u001b[0m \u001b[0msample_weight\u001b[0m\u001b[0;34m)\u001b[0m\u001b[0;34m\u001b[0m\u001b[0;34m\u001b[0m\u001b[0m\n\u001b[0m\u001b[1;32m    334\u001b[0m         \u001b[0mconverged\u001b[0m \u001b[0;34m=\u001b[0m \u001b[0;34m(\u001b[0m\u001b[0mmoves\u001b[0m \u001b[0;34m==\u001b[0m \u001b[0;36m0\u001b[0m\u001b[0;34m)\u001b[0m \u001b[0;32mor\u001b[0m \u001b[0;34m(\u001b[0m\u001b[0mncost\u001b[0m \u001b[0;34m>=\u001b[0m \u001b[0mcost\u001b[0m\u001b[0;34m)\u001b[0m\u001b[0;34m\u001b[0m\u001b[0;34m\u001b[0m\u001b[0m\n\u001b[1;32m    335\u001b[0m         \u001b[0mepoch_costs\u001b[0m\u001b[0;34m.\u001b[0m\u001b[0mappend\u001b[0m\u001b[0;34m(\u001b[0m\u001b[0mncost\u001b[0m\u001b[0;34m)\u001b[0m\u001b[0;34m\u001b[0m\u001b[0;34m\u001b[0m\u001b[0m\n",
            "\u001b[0;32m/usr/local/lib/python3.7/dist-packages/kmodes/kmodes.py\u001b[0m in \u001b[0;36mlabels_cost\u001b[0;34m(X, centroids, dissim, membship, sample_weight)\u001b[0m\n\u001b[1;32m    200\u001b[0m     \u001b[0;32mfor\u001b[0m \u001b[0mipoint\u001b[0m\u001b[0;34m,\u001b[0m \u001b[0mcurpoint\u001b[0m \u001b[0;32min\u001b[0m \u001b[0menumerate\u001b[0m\u001b[0;34m(\u001b[0m\u001b[0mX\u001b[0m\u001b[0;34m)\u001b[0m\u001b[0;34m:\u001b[0m\u001b[0;34m\u001b[0m\u001b[0;34m\u001b[0m\u001b[0m\n\u001b[1;32m    201\u001b[0m         \u001b[0mweight\u001b[0m \u001b[0;34m=\u001b[0m \u001b[0msample_weight\u001b[0m\u001b[0;34m[\u001b[0m\u001b[0mipoint\u001b[0m\u001b[0;34m]\u001b[0m \u001b[0;32mif\u001b[0m \u001b[0msample_weight\u001b[0m \u001b[0;32mis\u001b[0m \u001b[0;32mnot\u001b[0m \u001b[0;32mNone\u001b[0m \u001b[0;32melse\u001b[0m \u001b[0;36m1\u001b[0m\u001b[0;34m\u001b[0m\u001b[0;34m\u001b[0m\u001b[0m\n\u001b[0;32m--> 202\u001b[0;31m         \u001b[0mdiss\u001b[0m \u001b[0;34m=\u001b[0m \u001b[0mdissim\u001b[0m\u001b[0;34m(\u001b[0m\u001b[0mcentroids\u001b[0m\u001b[0;34m,\u001b[0m \u001b[0mcurpoint\u001b[0m\u001b[0;34m,\u001b[0m \u001b[0mX\u001b[0m\u001b[0;34m=\u001b[0m\u001b[0mX\u001b[0m\u001b[0;34m,\u001b[0m \u001b[0mmembship\u001b[0m\u001b[0;34m=\u001b[0m\u001b[0mmembship\u001b[0m\u001b[0;34m)\u001b[0m\u001b[0;34m\u001b[0m\u001b[0;34m\u001b[0m\u001b[0m\n\u001b[0m\u001b[1;32m    203\u001b[0m         \u001b[0mclust\u001b[0m \u001b[0;34m=\u001b[0m \u001b[0mnp\u001b[0m\u001b[0;34m.\u001b[0m\u001b[0margmin\u001b[0m\u001b[0;34m(\u001b[0m\u001b[0mdiss\u001b[0m\u001b[0;34m)\u001b[0m\u001b[0;34m\u001b[0m\u001b[0;34m\u001b[0m\u001b[0m\n\u001b[1;32m    204\u001b[0m         \u001b[0mlabels\u001b[0m\u001b[0;34m[\u001b[0m\u001b[0mipoint\u001b[0m\u001b[0;34m]\u001b[0m \u001b[0;34m=\u001b[0m \u001b[0mclust\u001b[0m\u001b[0;34m\u001b[0m\u001b[0;34m\u001b[0m\u001b[0m\n",
            "\u001b[0;32m/usr/local/lib/python3.7/dist-packages/kmodes/util/dissim.py\u001b[0m in \u001b[0;36mmatching_dissim\u001b[0;34m(a, b, **_)\u001b[0m\n\u001b[1;32m      8\u001b[0m \u001b[0;32mdef\u001b[0m \u001b[0mmatching_dissim\u001b[0m\u001b[0;34m(\u001b[0m\u001b[0ma\u001b[0m\u001b[0;34m,\u001b[0m \u001b[0mb\u001b[0m\u001b[0;34m,\u001b[0m \u001b[0;34m**\u001b[0m\u001b[0m_\u001b[0m\u001b[0;34m)\u001b[0m\u001b[0;34m:\u001b[0m\u001b[0;34m\u001b[0m\u001b[0;34m\u001b[0m\u001b[0m\n\u001b[1;32m      9\u001b[0m     \u001b[0;34m\"\"\"Simple matching dissimilarity function\"\"\"\u001b[0m\u001b[0;34m\u001b[0m\u001b[0;34m\u001b[0m\u001b[0m\n\u001b[0;32m---> 10\u001b[0;31m     \u001b[0;32mreturn\u001b[0m \u001b[0mnp\u001b[0m\u001b[0;34m.\u001b[0m\u001b[0msum\u001b[0m\u001b[0;34m(\u001b[0m\u001b[0ma\u001b[0m \u001b[0;34m!=\u001b[0m \u001b[0mb\u001b[0m\u001b[0;34m,\u001b[0m \u001b[0maxis\u001b[0m\u001b[0;34m=\u001b[0m\u001b[0;36m1\u001b[0m\u001b[0;34m)\u001b[0m\u001b[0;34m\u001b[0m\u001b[0;34m\u001b[0m\u001b[0m\n\u001b[0m\u001b[1;32m     11\u001b[0m \u001b[0;34m\u001b[0m\u001b[0m\n\u001b[1;32m     12\u001b[0m \u001b[0;34m\u001b[0m\u001b[0m\n",
            "\u001b[0;32m<__array_function__ internals>\u001b[0m in \u001b[0;36msum\u001b[0;34m(*args, **kwargs)\u001b[0m\n",
            "\u001b[0;32m/usr/local/lib/python3.7/dist-packages/numpy/core/fromnumeric.py\u001b[0m in \u001b[0;36msum\u001b[0;34m(a, axis, dtype, out, keepdims, initial, where)\u001b[0m\n\u001b[1;32m   2258\u001b[0m \u001b[0;34m\u001b[0m\u001b[0m\n\u001b[1;32m   2259\u001b[0m     return _wrapreduction(a, np.add, 'sum', axis, dtype, out, keepdims=keepdims,\n\u001b[0;32m-> 2260\u001b[0;31m                           initial=initial, where=where)\n\u001b[0m\u001b[1;32m   2261\u001b[0m \u001b[0;34m\u001b[0m\u001b[0m\n\u001b[1;32m   2262\u001b[0m \u001b[0;34m\u001b[0m\u001b[0m\n",
            "\u001b[0;32m/usr/local/lib/python3.7/dist-packages/numpy/core/fromnumeric.py\u001b[0m in \u001b[0;36m_wrapreduction\u001b[0;34m(obj, ufunc, method, axis, dtype, out, **kwargs)\u001b[0m\n\u001b[1;32m     68\u001b[0m \u001b[0;34m\u001b[0m\u001b[0m\n\u001b[1;32m     69\u001b[0m \u001b[0;32mdef\u001b[0m \u001b[0m_wrapreduction\u001b[0m\u001b[0;34m(\u001b[0m\u001b[0mobj\u001b[0m\u001b[0;34m,\u001b[0m \u001b[0mufunc\u001b[0m\u001b[0;34m,\u001b[0m \u001b[0mmethod\u001b[0m\u001b[0;34m,\u001b[0m \u001b[0maxis\u001b[0m\u001b[0;34m,\u001b[0m \u001b[0mdtype\u001b[0m\u001b[0;34m,\u001b[0m \u001b[0mout\u001b[0m\u001b[0;34m,\u001b[0m \u001b[0;34m**\u001b[0m\u001b[0mkwargs\u001b[0m\u001b[0;34m)\u001b[0m\u001b[0;34m:\u001b[0m\u001b[0;34m\u001b[0m\u001b[0;34m\u001b[0m\u001b[0m\n\u001b[0;32m---> 70\u001b[0;31m     passkwargs = {k: v for k, v in kwargs.items()\n\u001b[0m\u001b[1;32m     71\u001b[0m                   if v is not np._NoValue}\n\u001b[1;32m     72\u001b[0m \u001b[0;34m\u001b[0m\u001b[0m\n",
            "\u001b[0;31mKeyboardInterrupt\u001b[0m: "
          ]
        }
      ]
    },
    {
      "cell_type": "markdown",
      "source": [
        "**Compute Kmodes Model**"
      ],
      "metadata": {
        "id": "BWjEtrTcDTft"
      }
    },
    {
      "cell_type": "code",
      "source": [
        "# Building the model with 2 clusters\n",
        "kmode = KModes(n_clusters=2, init = \"random\", n_init = 5, verbose=1)\n",
        "clusters = kmode.fit_predict(data)\n",
        "clusters"
      ],
      "metadata": {
        "id": "5ANDNiOa1o-g"
      },
      "execution_count": null,
      "outputs": []
    },
    {
      "cell_type": "markdown",
      "source": [
        "**Add clusters to dataframe**"
      ],
      "metadata": {
        "id": "CAiCH6-PDZi5"
      }
    },
    {
      "cell_type": "code",
      "source": [
        "kmode.labels_ # getting the labels of clusters assigned to each row \n",
        "mb = pd.Series(kmode.labels_)  # converting numpy array into pandas series object \n",
        "data['clust'] = mb # creating a  new column and assigning it to new column "
      ],
      "metadata": {
        "id": "Nihnlwv-1ufg"
      },
      "execution_count": null,
      "outputs": []
    },
    {
      "cell_type": "code",
      "source": [
        "data.groupby(data.clust).apply(pd.DataFrame.mode).reset_index(drop=True)"
      ],
      "metadata": {
        "id": "wmh8k9x_2GJ1"
      },
      "execution_count": null,
      "outputs": []
    },
    {
      "cell_type": "code",
      "source": [
        "data.groupby(data.clust).mean()"
      ],
      "metadata": {
        "id": "4_H2SyW92l69"
      },
      "execution_count": null,
      "outputs": []
    },
    {
      "cell_type": "code",
      "source": [
        "fig = plt.figure(figsize = (10, 10))\n",
        "\n",
        "label = ['Afternoon Weekday', 'Morning Weekday', 'Afternoon Weekend', 'Morning Weekend', 'Evening Weekday','Evening Weekend','Night Weekend','Night Weekday ']\n",
        "\n",
        "plt.pie(df_dummy[\"PartType\"].value_counts(),\n",
        "        shadow = True,\n",
        "        autopct='%1.1f%%',\n",
        "        pctdistance=1.5,\n",
        "        labels = label,\n",
        "        labeldistance=2,\n",
        "        explode = [0,0,0,0,0,0,0,0])\n",
        "plt.title('Sales based on purchase time')\n",
        "plt.show()"
      ],
      "metadata": {
        "id": "aTewNeLH4e3w"
      },
      "execution_count": null,
      "outputs": []
    },
    {
      "cell_type": "code",
      "source": [
        "# df_dummy[\"PartType\"].value_counts()"
      ],
      "metadata": {
        "id": "4feG2H5v5Oef"
      },
      "execution_count": null,
      "outputs": []
    },
    {
      "cell_type": "code",
      "source": [
        "# df_dummy.head()\n",
        "# df_dummy.Coffee"
      ],
      "metadata": {
        "id": "davRo8AedoNU"
      },
      "execution_count": null,
      "outputs": []
    },
    {
      "cell_type": "code",
      "source": [
        "df_dummy2 = df_dummy\n",
        "df_dummy2['DayType']= df_drop.DayType\n",
        "df_dummy2['Daypart']= df_drop.Daypart\n",
        "# df_dummy2.head()"
      ],
      "metadata": {
        "id": "hyqx2uwss8Sf"
      },
      "execution_count": null,
      "outputs": []
    },
    {
      "cell_type": "code",
      "source": [
        "# fig, ax = plt.subplots()\n",
        "# fig.set_size_inches(20, 8.27)\n",
        "# plt.xticks(rotation=45, ha=\"right\")\n",
        "# ax = sns.barplot(x=\"PartType\", y=\"Coffee\", hue=\"PartType\", data=df_dummy)"
      ],
      "metadata": {
        "id": "6JBSzKuqYl8r"
      },
      "execution_count": null,
      "outputs": []
    },
    {
      "cell_type": "code",
      "source": [
        "# brpDf = df\n",
        "# brpDf = df.drop_duplicates()\n",
        "# brpDf.drop(columns = \"DateTime\", inplace = True)\n",
        "# one_hot = pd.get_dummies(brpDf['Items'])\n",
        "# brpDf = brpDf.drop('Items',axis = 1)\n",
        "# brpDf = brpDf.join(one_hot)\n",
        "# brpDf"
      ],
      "metadata": {
        "id": "hv4PCs5reEo1"
      },
      "execution_count": null,
      "outputs": []
    },
    {
      "cell_type": "code",
      "source": [
        "fig, axes = plt.subplots(3, 1, figsize=(20, 20))\n",
        "\n",
        "fig.suptitle('Top Selling Items by DayType')\n",
        "\n",
        "sns.barplot(ax=axes[0], x=\"Daypart\", y=\"Coffee\", hue=\"DayType\", data=df_dummy2, palette = \"ch:s=-.1,r=.8\")\n",
        "sns.barplot(ax=axes[1], x=\"Daypart\", y=\"Bread\", hue=\"DayType\", data=df_dummy2, palette = \"ch:s=-.1,r=.8\")\n",
        "sns.barplot(ax=axes[2], x=\"Daypart\", y=\"Tea\", hue=\"DayType\", data=df_dummy2, palette = \"ch:s=-.1,r=.8\")"
      ],
      "metadata": {
        "id": "-hG2BwHZkEjp"
      },
      "execution_count": null,
      "outputs": []
    },
    {
      "cell_type": "code",
      "source": [
        "fig, axes = plt.subplots(3, 1, figsize=(20, 20))\n",
        "\n",
        "fig.suptitle('Top Selling Items by Daypart')\n",
        "\n",
        "sns.barplot(ax=axes[0],x=\"DayType\", y=\"Coffee\", hue=\"Daypart\", data=df_dummy2,  palette=\"icefire\")\n",
        "sns.barplot(ax=axes[1],x=\"DayType\", y=\"Bread\", hue=\"Daypart\", data=df_dummy2,  palette=\"icefire\")\n",
        "sns.barplot(ax=axes[2],x=\"DayType\", y=\"Tea\", hue=\"Daypart\", data=df_dummy2, palette=\"icefire\")"
      ],
      "metadata": {
        "id": "BqC1A9pfmBeD"
      },
      "execution_count": null,
      "outputs": []
    },
    {
      "cell_type": "code",
      "source": [
        ""
      ],
      "metadata": {
        "id": "erHSUlnEk5hh"
      },
      "execution_count": null,
      "outputs": []
    }
  ]
}